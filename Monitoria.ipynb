{
  "nbformat": 4,
  "nbformat_minor": 0,
  "metadata": {
    "colab": {
      "provenance": []
    },
    "kernelspec": {
      "name": "python3",
      "display_name": "Python 3"
    },
    "language_info": {
      "name": "python"
    }
  },
  "cells": [
    {
      "cell_type": "markdown",
      "source": [
        "# Acessando Dados do Pysus"
      ],
      "metadata": {
        "id": "rUM8V74vrbKL"
      }
    },
    {
      "cell_type": "markdown",
      "source": [
        "Precisamos começar instalando o Pysus na nossa máquina virtual do Colab!"
      ],
      "metadata": {
        "id": "aOilpL3fhsz7"
      }
    },
    {
      "cell_type": "code",
      "source": [
        "# pip install pysus"
      ],
      "metadata": {
        "colab": {
          "base_uri": "https://localhost:8080/",
          "height": 1000
        },
        "id": "rb4sMv9_hp3q",
        "outputId": "33cf9d59-0533-49d5-e786-ace72e736282"
      },
      "execution_count": 3,
      "outputs": [
        {
          "output_type": "stream",
          "name": "stdout",
          "text": [
            "Looking in indexes: https://pypi.org/simple, https://us-python.pkg.dev/colab-wheels/public/simple/\n",
            "Collecting pysus\n",
            "  Downloading pysus-0.9.2-py3-none-any.whl (1.3 MB)\n",
            "\u001b[2K     \u001b[90m━━━━━━━━━━━━━━━━━━━━━━━━━━━━━━━━━━━━━━━━\u001b[0m \u001b[32m1.3/1.3 MB\u001b[0m \u001b[31m22.4 MB/s\u001b[0m eta \u001b[36m0:00:00\u001b[0m\n",
            "\u001b[?25hCollecting Unidecode<2.0.0,>=1.3.6 (from pysus)\n",
            "  Downloading Unidecode-1.3.6-py3-none-any.whl (235 kB)\n",
            "\u001b[2K     \u001b[90m━━━━━━━━━━━━━━━━━━━━━━━━━━━━━━━━━━━━━━\u001b[0m \u001b[32m235.9/235.9 kB\u001b[0m \u001b[31m25.3 MB/s\u001b[0m eta \u001b[36m0:00:00\u001b[0m\n",
            "\u001b[?25hRequirement already satisfied: cffi==1.15.1 in /usr/local/lib/python3.10/dist-packages (from pysus) (1.15.1)\n",
            "Collecting dbfread==2.0.7 (from pysus)\n",
            "  Downloading dbfread-2.0.7-py2.py3-none-any.whl (20 kB)\n",
            "Collecting elasticsearch==7.16.2 (from pysus)\n",
            "  Downloading elasticsearch-7.16.2-py2.py3-none-any.whl (385 kB)\n",
            "\u001b[2K     \u001b[90m━━━━━━━━━━━━━━━━━━━━━━━━━━━━━━━━━━━━━━\u001b[0m \u001b[32m385.7/385.7 kB\u001b[0m \u001b[31m39.4 MB/s\u001b[0m eta \u001b[36m0:00:00\u001b[0m\n",
            "\u001b[?25hCollecting fastparquet<0.9.0,>=0.8.1 (from pysus)\n",
            "  Downloading fastparquet-0.8.3-cp310-cp310-manylinux_2_17_x86_64.manylinux2014_x86_64.whl (1.5 MB)\n",
            "\u001b[2K     \u001b[90m━━━━━━━━━━━━━━━━━━━━━━━━━━━━━━━━━━━━━━━━\u001b[0m \u001b[32m1.5/1.5 MB\u001b[0m \u001b[31m77.6 MB/s\u001b[0m eta \u001b[36m0:00:00\u001b[0m\n",
            "\u001b[?25hCollecting geobr<0.3.0,>=0.2.0 (from pysus)\n",
            "  Downloading geobr-0.2.0-py2.py3-none-any.whl (34 kB)\n",
            "Collecting geocoder<2.0.0,>=1.38.1 (from pysus)\n",
            "  Downloading geocoder-1.38.1-py2.py3-none-any.whl (98 kB)\n",
            "\u001b[2K     \u001b[90m━━━━━━━━━━━━━━━━━━━━━━━━━━━━━━━━━━━━━━━━\u001b[0m \u001b[32m98.6/98.6 kB\u001b[0m \u001b[31m11.8 MB/s\u001b[0m eta \u001b[36m0:00:00\u001b[0m\n",
            "\u001b[?25hCollecting ipykernel<7.0.0,>=6.22.0 (from pysus)\n",
            "  Downloading ipykernel-6.23.1-py3-none-any.whl (152 kB)\n",
            "\u001b[2K     \u001b[90m━━━━━━━━━━━━━━━━━━━━━━━━━━━━━━━━━━━━━━\u001b[0m \u001b[32m152.2/152.2 kB\u001b[0m \u001b[31m17.9 MB/s\u001b[0m eta \u001b[36m0:00:00\u001b[0m\n",
            "\u001b[?25hCollecting jupyterlab<4.0.0,>=3.4.5 (from pysus)\n",
            "  Downloading jupyterlab-3.6.3-py3-none-any.whl (8.9 MB)\n",
            "\u001b[2K     \u001b[90m━━━━━━━━━━━━━━━━━━━━━━━━━━━━━━━━━━━━━━━━\u001b[0m \u001b[32m8.9/8.9 MB\u001b[0m \u001b[31m52.4 MB/s\u001b[0m eta \u001b[36m0:00:00\u001b[0m\n",
            "\u001b[?25hCollecting loguru<0.7.0,>=0.6.0 (from pysus)\n",
            "  Downloading loguru-0.6.0-py3-none-any.whl (58 kB)\n",
            "\u001b[2K     \u001b[90m━━━━━━━━━━━━━━━━━━━━━━━━━━━━━━━━━━━━━━━━\u001b[0m \u001b[32m58.3/58.3 kB\u001b[0m \u001b[31m7.0 MB/s\u001b[0m eta \u001b[36m0:00:00\u001b[0m\n",
            "\u001b[?25hCollecting numpy==1.23.2 (from pysus)\n",
            "  Downloading numpy-1.23.2-cp310-cp310-manylinux_2_17_x86_64.manylinux2014_x86_64.whl (17.0 MB)\n",
            "\u001b[2K     \u001b[90m━━━━━━━━━━━━━━━━━━━━━━━━━━━━━━━━━━━━━━━━\u001b[0m \u001b[32m17.0/17.0 MB\u001b[0m \u001b[31m49.9 MB/s\u001b[0m eta \u001b[36m0:00:00\u001b[0m\n",
            "\u001b[?25hCollecting pandas==1.4.3 (from pysus)\n",
            "  Downloading pandas-1.4.3-cp310-cp310-manylinux_2_17_x86_64.manylinux2014_x86_64.whl (11.6 MB)\n",
            "\u001b[2K     \u001b[90m━━━━━━━━━━━━━━━━━━━━━━━━━━━━━━━━━━━━━━━━\u001b[0m \u001b[32m11.6/11.6 MB\u001b[0m \u001b[31m57.9 MB/s\u001b[0m eta \u001b[36m0:00:00\u001b[0m\n",
            "\u001b[?25hCollecting pyarrow>=11.0.0 (from pysus)\n",
            "  Downloading pyarrow-12.0.0-cp310-cp310-manylinux_2_17_x86_64.manylinux2014_x86_64.whl (38.9 MB)\n",
            "\u001b[2K     \u001b[90m━━━━━━━━━━━━━━━━━━━━━━━━━━━━━━━━━━━━━━━━\u001b[0m \u001b[32m38.9/38.9 MB\u001b[0m \u001b[31m10.3 MB/s\u001b[0m eta \u001b[36m0:00:00\u001b[0m\n",
            "\u001b[?25hRequirement already satisfied: pycparser==2.21 in /usr/local/lib/python3.10/dist-packages (from pysus) (2.21)\n",
            "Collecting pyreaddbc==1.0.0 (from pysus)\n",
            "  Downloading pyreaddbc-1.0.0.tar.gz (43 kB)\n",
            "\u001b[2K     \u001b[90m━━━━━━━━━━━━━━━━━━━━━━━━━━━━━━━━━━━━━━━━\u001b[0m \u001b[32m43.9/43.9 kB\u001b[0m \u001b[31m4.4 MB/s\u001b[0m eta \u001b[36m0:00:00\u001b[0m\n",
            "\u001b[?25h  Installing build dependencies ... \u001b[?25l\u001b[?25hdone\n",
            "  Getting requirements to build wheel ... \u001b[?25l\u001b[?25hdone\n",
            "  Preparing metadata (pyproject.toml) ... \u001b[?25l\u001b[?25hdone\n",
            "Requirement already satisfied: python-dateutil==2.8.2 in /usr/local/lib/python3.10/dist-packages (from pysus) (2.8.2)\n",
            "Collecting pytz==2022.2.1 (from pysus)\n",
            "  Downloading pytz-2022.2.1-py2.py3-none-any.whl (500 kB)\n",
            "\u001b[2K     \u001b[90m━━━━━━━━━━━━━━━━━━━━━━━━━━━━━━━━━━━━━━\u001b[0m \u001b[32m500.6/500.6 kB\u001b[0m \u001b[31m47.6 MB/s\u001b[0m eta \u001b[36m0:00:00\u001b[0m\n",
            "\u001b[?25hRequirement already satisfied: six==1.16.0 in /usr/local/lib/python3.10/dist-packages (from pysus) (1.16.0)\n",
            "Collecting sqlalchemy<2.0.0 (from pysus)\n",
            "  Downloading SQLAlchemy-1.4.48-cp310-cp310-manylinux_2_5_x86_64.manylinux1_x86_64.manylinux_2_17_x86_64.manylinux2014_x86_64.whl (1.6 MB)\n",
            "\u001b[2K     \u001b[90m━━━━━━━━━━━━━━━━━━━━━━━━━━━━━━━━━━━━━━━━\u001b[0m \u001b[32m1.6/1.6 MB\u001b[0m \u001b[31m82.9 MB/s\u001b[0m eta \u001b[36m0:00:00\u001b[0m\n",
            "\u001b[?25hCollecting tqdm==4.64.0 (from pysus)\n",
            "  Downloading tqdm-4.64.0-py2.py3-none-any.whl (78 kB)\n",
            "\u001b[2K     \u001b[90m━━━━━━━━━━━━━━━━━━━━━━━━━━━━━━━━━━━━━━━━\u001b[0m \u001b[32m78.4/78.4 kB\u001b[0m \u001b[31m9.7 MB/s\u001b[0m eta \u001b[36m0:00:00\u001b[0m\n",
            "\u001b[?25hCollecting wget<4.0,>=3.2 (from pysus)\n",
            "  Downloading wget-3.2.zip (10 kB)\n",
            "  Preparing metadata (setup.py) ... \u001b[?25l\u001b[?25hdone\n",
            "Requirement already satisfied: urllib3<2,>=1.21.1 in /usr/local/lib/python3.10/dist-packages (from elasticsearch==7.16.2->pysus) (1.26.15)\n",
            "Requirement already satisfied: certifi in /usr/local/lib/python3.10/dist-packages (from elasticsearch==7.16.2->pysus) (2022.12.7)\n",
            "Collecting cramjam>=2.3.0 (from fastparquet<0.9.0,>=0.8.1->pysus)\n",
            "  Downloading cramjam-2.6.2-cp310-cp310-manylinux_2_17_x86_64.manylinux2014_x86_64.whl (2.0 MB)\n",
            "\u001b[2K     \u001b[90m━━━━━━━━━━━━━━━━━━━━━━━━━━━━━━━━━━━━━━━━\u001b[0m \u001b[32m2.0/2.0 MB\u001b[0m \u001b[31m59.0 MB/s\u001b[0m eta \u001b[36m0:00:00\u001b[0m\n",
            "\u001b[?25hRequirement already satisfied: fsspec in /usr/local/lib/python3.10/dist-packages (from fastparquet<0.9.0,>=0.8.1->pysus) (2023.4.0)\n",
            "Requirement already satisfied: packaging in /usr/local/lib/python3.10/dist-packages (from fastparquet<0.9.0,>=0.8.1->pysus) (23.1)\n",
            "Collecting geopandas<0.8.0,>=0.7.0 (from geobr<0.3.0,>=0.2.0->pysus)\n",
            "  Downloading geopandas-0.7.0-py2.py3-none-any.whl (928 kB)\n",
            "\u001b[2K     \u001b[90m━━━━━━━━━━━━━━━━━━━━━━━━━━━━━━━━━━━━━━\u001b[0m \u001b[32m928.1/928.1 kB\u001b[0m \u001b[31m58.5 MB/s\u001b[0m eta \u001b[36m0:00:00\u001b[0m\n",
            "\u001b[?25hCollecting shapely<2.0.0,>=1.7.0 (from geobr<0.3.0,>=0.2.0->pysus)\n",
            "  Downloading Shapely-1.8.5.post1-cp310-cp310-manylinux_2_12_x86_64.manylinux2010_x86_64.whl (2.0 MB)\n",
            "\u001b[2K     \u001b[90m━━━━━━━━━━━━━━━━━━━━━━━━━━━━━━━━━━━━━━━━\u001b[0m \u001b[32m2.0/2.0 MB\u001b[0m \u001b[31m90.8 MB/s\u001b[0m eta \u001b[36m0:00:00\u001b[0m\n",
            "\u001b[?25hRequirement already satisfied: click in /usr/local/lib/python3.10/dist-packages (from geocoder<2.0.0,>=1.38.1->pysus) (8.1.3)\n",
            "Requirement already satisfied: future in /usr/local/lib/python3.10/dist-packages (from geocoder<2.0.0,>=1.38.1->pysus) (0.18.3)\n",
            "Collecting ratelim (from geocoder<2.0.0,>=1.38.1->pysus)\n",
            "  Downloading ratelim-0.1.6-py2.py3-none-any.whl (4.0 kB)\n",
            "Requirement already satisfied: requests in /usr/local/lib/python3.10/dist-packages (from geocoder<2.0.0,>=1.38.1->pysus) (2.27.1)\n",
            "Collecting comm>=0.1.1 (from ipykernel<7.0.0,>=6.22.0->pysus)\n",
            "  Downloading comm-0.1.3-py3-none-any.whl (6.6 kB)\n",
            "Requirement already satisfied: debugpy>=1.6.5 in /usr/local/lib/python3.10/dist-packages (from ipykernel<7.0.0,>=6.22.0->pysus) (1.6.6)\n",
            "Requirement already satisfied: ipython>=7.23.1 in /usr/local/lib/python3.10/dist-packages (from ipykernel<7.0.0,>=6.22.0->pysus) (7.34.0)\n",
            "Requirement already satisfied: jupyter-client>=6.1.12 in /usr/local/lib/python3.10/dist-packages (from ipykernel<7.0.0,>=6.22.0->pysus) (6.1.12)\n",
            "Requirement already satisfied: jupyter-core!=5.0.*,>=4.12 in /usr/local/lib/python3.10/dist-packages (from ipykernel<7.0.0,>=6.22.0->pysus) (5.3.0)\n",
            "Requirement already satisfied: matplotlib-inline>=0.1 in /usr/local/lib/python3.10/dist-packages (from ipykernel<7.0.0,>=6.22.0->pysus) (0.1.6)\n",
            "Requirement already satisfied: nest-asyncio in /usr/local/lib/python3.10/dist-packages (from ipykernel<7.0.0,>=6.22.0->pysus) (1.5.6)\n",
            "Requirement already satisfied: psutil in /usr/local/lib/python3.10/dist-packages (from ipykernel<7.0.0,>=6.22.0->pysus) (5.9.5)\n",
            "Requirement already satisfied: pyzmq>=20 in /usr/local/lib/python3.10/dist-packages (from ipykernel<7.0.0,>=6.22.0->pysus) (23.2.1)\n",
            "Requirement already satisfied: tornado>=6.1 in /usr/local/lib/python3.10/dist-packages (from ipykernel<7.0.0,>=6.22.0->pysus) (6.3.1)\n",
            "Requirement already satisfied: traitlets>=5.4.0 in /usr/local/lib/python3.10/dist-packages (from ipykernel<7.0.0,>=6.22.0->pysus) (5.7.1)\n",
            "Collecting jupyterlab-server~=2.19 (from jupyterlab<4.0.0,>=3.4.5->pysus)\n",
            "  Downloading jupyterlab_server-2.22.1-py3-none-any.whl (57 kB)\n",
            "\u001b[2K     \u001b[90m━━━━━━━━━━━━━━━━━━━━━━━━━━━━━━━━━━━━━━━━\u001b[0m \u001b[32m57.0/57.0 kB\u001b[0m \u001b[31m7.0 MB/s\u001b[0m eta \u001b[36m0:00:00\u001b[0m\n",
            "\u001b[?25hRequirement already satisfied: jupyter-server<3,>=1.16.0 in /usr/local/lib/python3.10/dist-packages (from jupyterlab<4.0.0,>=3.4.5->pysus) (1.24.0)\n",
            "Collecting jupyter-ydoc~=0.2.3 (from jupyterlab<4.0.0,>=3.4.5->pysus)\n",
            "  Downloading jupyter_ydoc-0.2.4-py3-none-any.whl (5.9 kB)\n",
            "Collecting jupyter-server-ydoc~=0.8.0 (from jupyterlab<4.0.0,>=3.4.5->pysus)\n",
            "  Downloading jupyter_server_ydoc-0.8.0-py3-none-any.whl (11 kB)\n",
            "Collecting nbclassic (from jupyterlab<4.0.0,>=3.4.5->pysus)\n",
            "  Downloading nbclassic-1.0.0-py3-none-any.whl (10.0 MB)\n",
            "\u001b[2K     \u001b[90m━━━━━━━━━━━━━━━━━━━━━━━━━━━━━━━━━━━━━━━\u001b[0m \u001b[32m10.0/10.0 MB\u001b[0m \u001b[31m118.3 MB/s\u001b[0m eta \u001b[36m0:00:00\u001b[0m\n",
            "\u001b[?25hRequirement already satisfied: notebook<7 in /usr/local/lib/python3.10/dist-packages (from jupyterlab<4.0.0,>=3.4.5->pysus) (6.4.8)\n",
            "Requirement already satisfied: jinja2>=2.1 in /usr/local/lib/python3.10/dist-packages (from jupyterlab<4.0.0,>=3.4.5->pysus) (3.1.2)\n",
            "Requirement already satisfied: tomli in /usr/local/lib/python3.10/dist-packages (from jupyterlab<4.0.0,>=3.4.5->pysus) (2.0.1)\n",
            "Requirement already satisfied: greenlet!=0.4.17 in /usr/local/lib/python3.10/dist-packages (from sqlalchemy<2.0.0->pysus) (2.0.2)\n",
            "Collecting fiona (from geopandas<0.8.0,>=0.7.0->geobr<0.3.0,>=0.2.0->pysus)\n",
            "  Downloading Fiona-1.9.4.post1-cp310-cp310-manylinux_2_17_x86_64.manylinux2014_x86_64.whl (16.4 MB)\n",
            "\u001b[2K     \u001b[90m━━━━━━━━━━━━━━━━━━━━━━━━━━━━━━━━━━━━━━━━\u001b[0m \u001b[32m16.4/16.4 MB\u001b[0m \u001b[31m53.6 MB/s\u001b[0m eta \u001b[36m0:00:00\u001b[0m\n",
            "\u001b[?25hCollecting pyproj>=2.2.0 (from geopandas<0.8.0,>=0.7.0->geobr<0.3.0,>=0.2.0->pysus)\n",
            "  Downloading pyproj-3.5.0-cp310-cp310-manylinux_2_17_x86_64.manylinux2014_x86_64.whl (7.7 MB)\n",
            "\u001b[2K     \u001b[90m━━━━━━━━━━━━━━━━━━━━━━━━━━━━━━━━━━━━━━━━\u001b[0m \u001b[32m7.7/7.7 MB\u001b[0m \u001b[31m66.3 MB/s\u001b[0m eta \u001b[36m0:00:00\u001b[0m\n",
            "\u001b[?25hRequirement already satisfied: setuptools>=18.5 in /usr/local/lib/python3.10/dist-packages (from ipython>=7.23.1->ipykernel<7.0.0,>=6.22.0->pysus) (67.7.2)\n",
            "Collecting jedi>=0.16 (from ipython>=7.23.1->ipykernel<7.0.0,>=6.22.0->pysus)\n",
            "  Downloading jedi-0.18.2-py2.py3-none-any.whl (1.6 MB)\n",
            "\u001b[2K     \u001b[90m━━━━━━━━━━━━━━━━━━━━━━━━━━━━━━━━━━━━━━━━\u001b[0m \u001b[32m1.6/1.6 MB\u001b[0m \u001b[31m53.3 MB/s\u001b[0m eta \u001b[36m0:00:00\u001b[0m\n",
            "\u001b[?25hRequirement already satisfied: decorator in /usr/local/lib/python3.10/dist-packages (from ipython>=7.23.1->ipykernel<7.0.0,>=6.22.0->pysus) (4.4.2)\n",
            "Requirement already satisfied: pickleshare in /usr/local/lib/python3.10/dist-packages (from ipython>=7.23.1->ipykernel<7.0.0,>=6.22.0->pysus) (0.7.5)\n",
            "Requirement already satisfied: prompt-toolkit!=3.0.0,!=3.0.1,<3.1.0,>=2.0.0 in /usr/local/lib/python3.10/dist-packages (from ipython>=7.23.1->ipykernel<7.0.0,>=6.22.0->pysus) (3.0.38)\n",
            "Requirement already satisfied: pygments in /usr/local/lib/python3.10/dist-packages (from ipython>=7.23.1->ipykernel<7.0.0,>=6.22.0->pysus) (2.14.0)\n",
            "Requirement already satisfied: backcall in /usr/local/lib/python3.10/dist-packages (from ipython>=7.23.1->ipykernel<7.0.0,>=6.22.0->pysus) (0.2.0)\n",
            "Requirement already satisfied: pexpect>4.3 in /usr/local/lib/python3.10/dist-packages (from ipython>=7.23.1->ipykernel<7.0.0,>=6.22.0->pysus) (4.8.0)\n",
            "Requirement already satisfied: MarkupSafe>=2.0 in /usr/local/lib/python3.10/dist-packages (from jinja2>=2.1->jupyterlab<4.0.0,>=3.4.5->pysus) (2.1.2)\n",
            "Requirement already satisfied: platformdirs>=2.5 in /usr/local/lib/python3.10/dist-packages (from jupyter-core!=5.0.*,>=4.12->ipykernel<7.0.0,>=6.22.0->pysus) (3.3.0)\n",
            "Requirement already satisfied: anyio<4,>=3.1.0 in /usr/local/lib/python3.10/dist-packages (from jupyter-server<3,>=1.16.0->jupyterlab<4.0.0,>=3.4.5->pysus) (3.6.2)\n",
            "Requirement already satisfied: argon2-cffi in /usr/local/lib/python3.10/dist-packages (from jupyter-server<3,>=1.16.0->jupyterlab<4.0.0,>=3.4.5->pysus) (21.3.0)\n",
            "Requirement already satisfied: nbconvert>=6.4.4 in /usr/local/lib/python3.10/dist-packages (from jupyter-server<3,>=1.16.0->jupyterlab<4.0.0,>=3.4.5->pysus) (6.5.4)\n",
            "Requirement already satisfied: nbformat>=5.2.0 in /usr/local/lib/python3.10/dist-packages (from jupyter-server<3,>=1.16.0->jupyterlab<4.0.0,>=3.4.5->pysus) (5.8.0)\n",
            "Requirement already satisfied: prometheus-client in /usr/local/lib/python3.10/dist-packages (from jupyter-server<3,>=1.16.0->jupyterlab<4.0.0,>=3.4.5->pysus) (0.16.0)\n",
            "Requirement already satisfied: Send2Trash in /usr/local/lib/python3.10/dist-packages (from jupyter-server<3,>=1.16.0->jupyterlab<4.0.0,>=3.4.5->pysus) (1.8.0)\n",
            "Requirement already satisfied: terminado>=0.8.3 in /usr/local/lib/python3.10/dist-packages (from jupyter-server<3,>=1.16.0->jupyterlab<4.0.0,>=3.4.5->pysus) (0.17.1)\n",
            "Requirement already satisfied: websocket-client in /usr/local/lib/python3.10/dist-packages (from jupyter-server<3,>=1.16.0->jupyterlab<4.0.0,>=3.4.5->pysus) (1.5.1)\n",
            "Collecting jupyter-server-fileid<1,>=0.6.0 (from jupyter-server-ydoc~=0.8.0->jupyterlab<4.0.0,>=3.4.5->pysus)\n",
            "  Downloading jupyter_server_fileid-0.9.0-py3-none-any.whl (15 kB)\n",
            "Collecting ypy-websocket<0.9.0,>=0.8.2 (from jupyter-server-ydoc~=0.8.0->jupyterlab<4.0.0,>=3.4.5->pysus)\n",
            "  Downloading ypy_websocket-0.8.4-py3-none-any.whl (10 kB)\n",
            "Collecting y-py<0.6.0,>=0.5.3 (from jupyter-ydoc~=0.2.3->jupyterlab<4.0.0,>=3.4.5->pysus)\n",
            "  Downloading y_py-0.5.9-cp310-cp310-manylinux_2_17_x86_64.manylinux2014_x86_64.whl (1.6 MB)\n",
            "\u001b[2K     \u001b[90m━━━━━━━━━━━━━━━━━━━━━━━━━━━━━━━━━━━━━━━━\u001b[0m \u001b[32m1.6/1.6 MB\u001b[0m \u001b[31m79.6 MB/s\u001b[0m eta \u001b[36m0:00:00\u001b[0m\n",
            "\u001b[?25hRequirement already satisfied: babel>=2.10 in /usr/local/lib/python3.10/dist-packages (from jupyterlab-server~=2.19->jupyterlab<4.0.0,>=3.4.5->pysus) (2.12.1)\n",
            "Collecting json5>=0.9.0 (from jupyterlab-server~=2.19->jupyterlab<4.0.0,>=3.4.5->pysus)\n",
            "  Downloading json5-0.9.14-py2.py3-none-any.whl (19 kB)\n",
            "Collecting jsonschema>=4.17.3 (from jupyterlab-server~=2.19->jupyterlab<4.0.0,>=3.4.5->pysus)\n",
            "  Downloading jsonschema-4.17.3-py3-none-any.whl (90 kB)\n",
            "\u001b[2K     \u001b[90m━━━━━━━━━━━━━━━━━━━━━━━━━━━━━━━━━━━━━━━━\u001b[0m \u001b[32m90.4/90.4 kB\u001b[0m \u001b[31m9.9 MB/s\u001b[0m eta \u001b[36m0:00:00\u001b[0m\n",
            "\u001b[?25hCollecting requests (from geocoder<2.0.0,>=1.38.1->pysus)\n",
            "  Downloading requests-2.31.0-py3-none-any.whl (62 kB)\n",
            "\u001b[2K     \u001b[90m━━━━━━━━━━━━━━━━━━━━━━━━━━━━━━━━━━━━━━━━\u001b[0m \u001b[32m62.6/62.6 kB\u001b[0m \u001b[31m6.8 MB/s\u001b[0m eta \u001b[36m0:00:00\u001b[0m\n",
            "\u001b[?25hRequirement already satisfied: ipython-genutils in /usr/local/lib/python3.10/dist-packages (from notebook<7->jupyterlab<4.0.0,>=3.4.5->pysus) (0.2.0)\n",
            "Requirement already satisfied: charset-normalizer<4,>=2 in /usr/local/lib/python3.10/dist-packages (from requests->geocoder<2.0.0,>=1.38.1->pysus) (2.0.12)\n",
            "Requirement already satisfied: idna<4,>=2.5 in /usr/local/lib/python3.10/dist-packages (from requests->geocoder<2.0.0,>=1.38.1->pysus) (3.4)\n",
            "Collecting notebook-shim>=0.2.3 (from nbclassic->jupyterlab<4.0.0,>=3.4.5->pysus)\n",
            "  Downloading notebook_shim-0.2.3-py3-none-any.whl (13 kB)\n",
            "Requirement already satisfied: sniffio>=1.1 in /usr/local/lib/python3.10/dist-packages (from anyio<4,>=3.1.0->jupyter-server<3,>=1.16.0->jupyterlab<4.0.0,>=3.4.5->pysus) (1.3.0)\n",
            "Requirement already satisfied: parso<0.9.0,>=0.8.0 in /usr/local/lib/python3.10/dist-packages (from jedi>=0.16->ipython>=7.23.1->ipykernel<7.0.0,>=6.22.0->pysus) (0.8.3)\n",
            "Requirement already satisfied: attrs>=17.4.0 in /usr/local/lib/python3.10/dist-packages (from jsonschema>=4.17.3->jupyterlab-server~=2.19->jupyterlab<4.0.0,>=3.4.5->pysus) (23.1.0)\n",
            "Requirement already satisfied: pyrsistent!=0.17.0,!=0.17.1,!=0.17.2,>=0.14.0 in /usr/local/lib/python3.10/dist-packages (from jsonschema>=4.17.3->jupyterlab-server~=2.19->jupyterlab<4.0.0,>=3.4.5->pysus) (0.19.3)\n",
            "Collecting jupyter-events>=0.5.0 (from jupyter-server-fileid<1,>=0.6.0->jupyter-server-ydoc~=0.8.0->jupyterlab<4.0.0,>=3.4.5->pysus)\n",
            "  Downloading jupyter_events-0.6.3-py3-none-any.whl (18 kB)\n",
            "Requirement already satisfied: lxml in /usr/local/lib/python3.10/dist-packages (from nbconvert>=6.4.4->jupyter-server<3,>=1.16.0->jupyterlab<4.0.0,>=3.4.5->pysus) (4.9.2)\n",
            "Requirement already satisfied: beautifulsoup4 in /usr/local/lib/python3.10/dist-packages (from nbconvert>=6.4.4->jupyter-server<3,>=1.16.0->jupyterlab<4.0.0,>=3.4.5->pysus) (4.11.2)\n",
            "Requirement already satisfied: bleach in /usr/local/lib/python3.10/dist-packages (from nbconvert>=6.4.4->jupyter-server<3,>=1.16.0->jupyterlab<4.0.0,>=3.4.5->pysus) (6.0.0)\n",
            "Requirement already satisfied: defusedxml in /usr/local/lib/python3.10/dist-packages (from nbconvert>=6.4.4->jupyter-server<3,>=1.16.0->jupyterlab<4.0.0,>=3.4.5->pysus) (0.7.1)\n",
            "Requirement already satisfied: entrypoints>=0.2.2 in /usr/local/lib/python3.10/dist-packages (from nbconvert>=6.4.4->jupyter-server<3,>=1.16.0->jupyterlab<4.0.0,>=3.4.5->pysus) (0.4)\n",
            "Requirement already satisfied: jupyterlab-pygments in /usr/local/lib/python3.10/dist-packages (from nbconvert>=6.4.4->jupyter-server<3,>=1.16.0->jupyterlab<4.0.0,>=3.4.5->pysus) (0.2.2)\n",
            "Requirement already satisfied: mistune<2,>=0.8.1 in /usr/local/lib/python3.10/dist-packages (from nbconvert>=6.4.4->jupyter-server<3,>=1.16.0->jupyterlab<4.0.0,>=3.4.5->pysus) (0.8.4)\n",
            "Requirement already satisfied: nbclient>=0.5.0 in /usr/local/lib/python3.10/dist-packages (from nbconvert>=6.4.4->jupyter-server<3,>=1.16.0->jupyterlab<4.0.0,>=3.4.5->pysus) (0.7.4)\n",
            "Requirement already satisfied: pandocfilters>=1.4.1 in /usr/local/lib/python3.10/dist-packages (from nbconvert>=6.4.4->jupyter-server<3,>=1.16.0->jupyterlab<4.0.0,>=3.4.5->pysus) (1.5.0)\n",
            "Requirement already satisfied: tinycss2 in /usr/local/lib/python3.10/dist-packages (from nbconvert>=6.4.4->jupyter-server<3,>=1.16.0->jupyterlab<4.0.0,>=3.4.5->pysus) (1.2.1)\n",
            "Requirement already satisfied: fastjsonschema in /usr/local/lib/python3.10/dist-packages (from nbformat>=5.2.0->jupyter-server<3,>=1.16.0->jupyterlab<4.0.0,>=3.4.5->pysus) (2.16.3)\n",
            "Requirement already satisfied: ptyprocess>=0.5 in /usr/local/lib/python3.10/dist-packages (from pexpect>4.3->ipython>=7.23.1->ipykernel<7.0.0,>=6.22.0->pysus) (0.7.0)\n",
            "Requirement already satisfied: wcwidth in /usr/local/lib/python3.10/dist-packages (from prompt-toolkit!=3.0.0,!=3.0.1,<3.1.0,>=2.0.0->ipython>=7.23.1->ipykernel<7.0.0,>=6.22.0->pysus) (0.2.6)\n",
            "Collecting aiofiles<23,>=22.1.0 (from ypy-websocket<0.9.0,>=0.8.2->jupyter-server-ydoc~=0.8.0->jupyterlab<4.0.0,>=3.4.5->pysus)\n",
            "  Downloading aiofiles-22.1.0-py3-none-any.whl (14 kB)\n",
            "Collecting aiosqlite<1,>=0.17.0 (from ypy-websocket<0.9.0,>=0.8.2->jupyter-server-ydoc~=0.8.0->jupyterlab<4.0.0,>=3.4.5->pysus)\n",
            "  Downloading aiosqlite-0.19.0-py3-none-any.whl (15 kB)\n",
            "INFO: pip is looking at multiple versions of ypy-websocket to determine which version is compatible with other requirements. This could take a while.\n",
            "Collecting ypy-websocket<0.9.0,>=0.8.2 (from jupyter-server-ydoc~=0.8.0->jupyterlab<4.0.0,>=3.4.5->pysus)\n",
            "  Downloading ypy_websocket-0.8.3-py3-none-any.whl (10 kB)\n",
            "  Downloading ypy_websocket-0.8.2-py3-none-any.whl (10 kB)\n",
            "Requirement already satisfied: argon2-cffi-bindings in /usr/local/lib/python3.10/dist-packages (from argon2-cffi->jupyter-server<3,>=1.16.0->jupyterlab<4.0.0,>=3.4.5->pysus) (21.2.0)\n",
            "Collecting click-plugins>=1.0 (from fiona->geopandas<0.8.0,>=0.7.0->geobr<0.3.0,>=0.2.0->pysus)\n",
            "  Downloading click_plugins-1.1.1-py2.py3-none-any.whl (7.5 kB)\n",
            "Collecting cligj>=0.5 (from fiona->geopandas<0.8.0,>=0.7.0->geobr<0.3.0,>=0.2.0->pysus)\n",
            "  Downloading cligj-0.7.2-py3-none-any.whl (7.1 kB)\n",
            "Requirement already satisfied: jsonschema[format-nongpl]>=3.2.0 in /usr/local/lib/python3.10/dist-packages (from jupyter-events>=0.5.0->jupyter-server-fileid<1,>=0.6.0->jupyter-server-ydoc~=0.8.0->jupyterlab<4.0.0,>=3.4.5->pysus) (4.3.3)\n",
            "Collecting python-json-logger>=2.0.4 (from jupyter-events>=0.5.0->jupyter-server-fileid<1,>=0.6.0->jupyter-server-ydoc~=0.8.0->jupyterlab<4.0.0,>=3.4.5->pysus)\n",
            "  Downloading python_json_logger-2.0.7-py3-none-any.whl (8.1 kB)\n",
            "Requirement already satisfied: pyyaml>=5.3 in /usr/local/lib/python3.10/dist-packages (from jupyter-events>=0.5.0->jupyter-server-fileid<1,>=0.6.0->jupyter-server-ydoc~=0.8.0->jupyterlab<4.0.0,>=3.4.5->pysus) (6.0)\n",
            "Collecting rfc3339-validator (from jupyter-events>=0.5.0->jupyter-server-fileid<1,>=0.6.0->jupyter-server-ydoc~=0.8.0->jupyterlab<4.0.0,>=3.4.5->pysus)\n",
            "  Downloading rfc3339_validator-0.1.4-py2.py3-none-any.whl (3.5 kB)\n",
            "Collecting rfc3986-validator>=0.1.1 (from jupyter-events>=0.5.0->jupyter-server-fileid<1,>=0.6.0->jupyter-server-ydoc~=0.8.0->jupyterlab<4.0.0,>=3.4.5->pysus)\n",
            "  Downloading rfc3986_validator-0.1.1-py2.py3-none-any.whl (4.2 kB)\n",
            "Requirement already satisfied: soupsieve>1.2 in /usr/local/lib/python3.10/dist-packages (from beautifulsoup4->nbconvert>=6.4.4->jupyter-server<3,>=1.16.0->jupyterlab<4.0.0,>=3.4.5->pysus) (2.4.1)\n",
            "Requirement already satisfied: webencodings in /usr/local/lib/python3.10/dist-packages (from bleach->nbconvert>=6.4.4->jupyter-server<3,>=1.16.0->jupyterlab<4.0.0,>=3.4.5->pysus) (0.5.1)\n",
            "\u001b[33mWARNING: jsonschema 4.3.3 does not provide the extra 'format-nongpl'\u001b[0m\u001b[33m\n",
            "\u001b[0mINFO: pip is looking at multiple versions of jsonschema[format-nongpl] to determine which version is compatible with other requirements. This could take a while.\n",
            "Collecting fqdn (from jsonschema>=4.17.3->jupyterlab-server~=2.19->jupyterlab<4.0.0,>=3.4.5->pysus)\n",
            "  Downloading fqdn-1.5.1-py3-none-any.whl (9.1 kB)\n",
            "Collecting isoduration (from jsonschema>=4.17.3->jupyterlab-server~=2.19->jupyterlab<4.0.0,>=3.4.5->pysus)\n",
            "  Downloading isoduration-20.11.0-py3-none-any.whl (11 kB)\n",
            "Collecting jsonpointer>1.13 (from jsonschema>=4.17.3->jupyterlab-server~=2.19->jupyterlab<4.0.0,>=3.4.5->pysus)\n",
            "  Downloading jsonpointer-2.3-py2.py3-none-any.whl (7.8 kB)\n",
            "Collecting uri-template (from jsonschema>=4.17.3->jupyterlab-server~=2.19->jupyterlab<4.0.0,>=3.4.5->pysus)\n",
            "  Downloading uri_template-1.2.0-py3-none-any.whl (10 kB)\n",
            "Requirement already satisfied: webcolors>=1.11 in /usr/local/lib/python3.10/dist-packages (from jsonschema>=4.17.3->jupyterlab-server~=2.19->jupyterlab<4.0.0,>=3.4.5->pysus) (1.13)\n",
            "Collecting arrow>=0.15.0 (from isoduration->jsonschema>=4.17.3->jupyterlab-server~=2.19->jupyterlab<4.0.0,>=3.4.5->pysus)\n",
            "  Downloading arrow-1.2.3-py3-none-any.whl (66 kB)\n",
            "\u001b[2K     \u001b[90m━━━━━━━━━━━━━━━━━━━━━━━━━━━━━━━━━━━━━━━━\u001b[0m \u001b[32m66.4/66.4 kB\u001b[0m \u001b[31m9.2 MB/s\u001b[0m eta \u001b[36m0:00:00\u001b[0m\n",
            "\u001b[?25hBuilding wheels for collected packages: pyreaddbc, wget\n",
            "  Building wheel for pyreaddbc (pyproject.toml) ... \u001b[?25l\u001b[?25hdone\n",
            "  Created wheel for pyreaddbc: filename=pyreaddbc-1.0.0-cp310-cp310-manylinux_2_31_x86_64.whl size=73435 sha256=fc4d9f7d620f3003d4bcb3288375bf82fad7ccc8eea8c5da871c016cafd309b0\n",
            "  Stored in directory: /root/.cache/pip/wheels/e1/9f/11/49eb860202e71e744bbb76de77c201f473af551ac11fd5f60d\n",
            "  Building wheel for wget (setup.py) ... \u001b[?25l\u001b[?25hdone\n",
            "  Created wheel for wget: filename=wget-3.2-py3-none-any.whl size=9657 sha256=0ce1b49070f537add828be43ba3c913565c1ef7ac4417587870c9eb3a740c685\n",
            "  Stored in directory: /root/.cache/pip/wheels/8b/f1/7f/5c94f0a7a505ca1c81cd1d9208ae2064675d97582078e6c769\n",
            "Successfully built pyreaddbc wget\n",
            "Installing collected packages: y-py, wget, pytz, json5, dbfread, uri-template, Unidecode, tqdm, sqlalchemy, shapely, rfc3986-validator, rfc3339-validator, requests, ratelim, python-json-logger, pyproj, numpy, loguru, jupyter-ydoc, jsonschema, jsonpointer, jedi, fqdn, elasticsearch, cramjam, comm, cligj, click-plugins, aiosqlite, aiofiles, ypy-websocket, pyarrow, pandas, geocoder, fiona, arrow, pyreaddbc, isoduration, ipykernel, geopandas, fastparquet, geobr, jupyter-events, notebook-shim, jupyterlab-server, jupyter-server-fileid, nbclassic, jupyter-server-ydoc, jupyterlab, pysus\n",
            "  Attempting uninstall: pytz\n",
            "    Found existing installation: pytz 2022.7.1\n",
            "    Uninstalling pytz-2022.7.1:\n",
            "      Successfully uninstalled pytz-2022.7.1\n",
            "  Attempting uninstall: tqdm\n",
            "    Found existing installation: tqdm 4.65.0\n",
            "    Uninstalling tqdm-4.65.0:\n",
            "      Successfully uninstalled tqdm-4.65.0\n",
            "  Attempting uninstall: sqlalchemy\n",
            "    Found existing installation: SQLAlchemy 2.0.10\n",
            "    Uninstalling SQLAlchemy-2.0.10:\n",
            "      Successfully uninstalled SQLAlchemy-2.0.10\n",
            "  Attempting uninstall: shapely\n",
            "    Found existing installation: shapely 2.0.1\n",
            "    Uninstalling shapely-2.0.1:\n",
            "      Successfully uninstalled shapely-2.0.1\n",
            "  Attempting uninstall: requests\n",
            "    Found existing installation: requests 2.27.1\n",
            "    Uninstalling requests-2.27.1:\n",
            "      Successfully uninstalled requests-2.27.1\n",
            "  Attempting uninstall: numpy\n",
            "    Found existing installation: numpy 1.22.4\n",
            "    Uninstalling numpy-1.22.4:\n",
            "      Successfully uninstalled numpy-1.22.4\n",
            "  Attempting uninstall: jsonschema\n",
            "    Found existing installation: jsonschema 4.3.3\n",
            "    Uninstalling jsonschema-4.3.3:\n",
            "      Successfully uninstalled jsonschema-4.3.3\n",
            "  Attempting uninstall: pyarrow\n",
            "    Found existing installation: pyarrow 9.0.0\n",
            "    Uninstalling pyarrow-9.0.0:\n",
            "      Successfully uninstalled pyarrow-9.0.0\n",
            "  Attempting uninstall: pandas\n",
            "    Found existing installation: pandas 1.5.3\n",
            "    Uninstalling pandas-1.5.3:\n",
            "      Successfully uninstalled pandas-1.5.3\n",
            "  Attempting uninstall: ipykernel\n",
            "    Found existing installation: ipykernel 5.5.6\n",
            "    Uninstalling ipykernel-5.5.6:\n",
            "      Successfully uninstalled ipykernel-5.5.6\n",
            "\u001b[31mERROR: pip's dependency resolver does not currently take into account all the packages that are installed. This behaviour is the source of the following dependency conflicts.\n",
            "google-colab 1.0.0 requires ipykernel==5.5.6, but you have ipykernel 6.23.1 which is incompatible.\n",
            "google-colab 1.0.0 requires pandas==1.5.3, but you have pandas 1.4.3 which is incompatible.\n",
            "google-colab 1.0.0 requires requests==2.27.1, but you have requests 2.31.0 which is incompatible.\n",
            "pandas-gbq 0.17.9 requires pyarrow<10.0dev,>=3.0.0, but you have pyarrow 12.0.0 which is incompatible.\n",
            "yfinance 0.2.18 requires pytz>=2022.5, but you have pytz 2022.2.1 which is incompatible.\u001b[0m\u001b[31m\n",
            "\u001b[0mSuccessfully installed Unidecode-1.3.6 aiofiles-22.1.0 aiosqlite-0.19.0 arrow-1.2.3 click-plugins-1.1.1 cligj-0.7.2 comm-0.1.3 cramjam-2.6.2 dbfread-2.0.7 elasticsearch-7.16.2 fastparquet-0.8.3 fiona-1.9.4.post1 fqdn-1.5.1 geobr-0.2.0 geocoder-1.38.1 geopandas-0.7.0 ipykernel-6.23.1 isoduration-20.11.0 jedi-0.18.2 json5-0.9.14 jsonpointer-2.3 jsonschema-4.17.3 jupyter-events-0.6.3 jupyter-server-fileid-0.9.0 jupyter-server-ydoc-0.8.0 jupyter-ydoc-0.2.4 jupyterlab-3.6.3 jupyterlab-server-2.22.1 loguru-0.6.0 nbclassic-1.0.0 notebook-shim-0.2.3 numpy-1.23.2 pandas-1.4.3 pyarrow-12.0.0 pyproj-3.5.0 pyreaddbc-1.0.0 pysus-0.9.2 python-json-logger-2.0.7 pytz-2022.2.1 ratelim-0.1.6 requests-2.31.0 rfc3339-validator-0.1.4 rfc3986-validator-0.1.1 shapely-1.8.5.post1 sqlalchemy-1.4.48 tqdm-4.64.0 uri-template-1.2.0 wget-3.2 y-py-0.5.9 ypy-websocket-0.8.2\n"
          ]
        },
        {
          "output_type": "display_data",
          "data": {
            "application/vnd.colab-display-data+json": {
              "pip_warning": {
                "packages": [
                  "numpy",
                  "pandas",
                  "pyarrow",
                  "pytz"
                ]
              }
            }
          },
          "metadata": {}
        }
      ]
    },
    {
      "cell_type": "markdown",
      "source": [
        "Quando concluído, clique no botão \"RESTART RUNTIME\""
      ],
      "metadata": {
        "id": "fUCRjAoQiZs0"
      }
    },
    {
      "cell_type": "code",
      "source": [
        "import pandas as pd\n",
        "import numpy as np\n",
        "import pysus as sus\n",
        "from pysus.online_data import SINAN"
      ],
      "metadata": {
        "id": "XZY28oktd9jY"
      },
      "execution_count": 1,
      "outputs": []
    },
    {
      "cell_type": "markdown",
      "source": [
        "Utilizando métodos da classe SINAN, podemos retornar uma lista com os nomes das doenças disponíveis e outra com os anos disponíveis de uma determinada doença."
      ],
      "metadata": {
        "id": "HdSkUJ9LhUyz"
      }
    },
    {
      "cell_type": "code",
      "source": [
        "doencas = SINAN.list_diseases()\n",
        "print(type(doencas))\n",
        "print(doencas)"
      ],
      "metadata": {
        "colab": {
          "base_uri": "https://localhost:8080/"
        },
        "id": "DgvdSbXLekWG",
        "outputId": "dcaa07f2-0000-4591-ab82-216b5a39850e"
      },
      "execution_count": 3,
      "outputs": [
        {
          "output_type": "stream",
          "name": "stdout",
          "text": [
            "<class 'list'>\n",
            "['Animais Peçonhentos', 'Botulismo', 'Cancer', 'Chagas', 'Chikungunya', 'Colera', 'Coqueluche', 'Contact Communicable Disease', 'Acidentes de Trabalho', 'Dengue', 'Difteria', 'Esquistossomose', 'Febre Amarela', 'Febre Maculosa', 'Febre Tifoide', 'Hanseniase', 'Hantavirose', 'Hepatites Virais', 'Intoxicação Exógena', 'Leishmaniose Visceral', 'Leptospirose', 'Leishmaniose Tegumentar', 'Malaria', 'Meningite', 'Peste', 'Poliomielite', 'Raiva Humana', 'Sífilis Adquirida', 'Sífilis Congênita', 'Sífilis em Gestante', 'Tétano Acidental', 'Tétano Neonatal', 'Tuberculose', 'Violência Domestica', 'Zika']\n"
          ]
        }
      ]
    },
    {
      "cell_type": "code",
      "source": [
        "anos = SINAN.get_available_years('Acidentes de Trabalho')\n",
        "print(anos)"
      ],
      "metadata": {
        "colab": {
          "base_uri": "https://localhost:8080/"
        },
        "id": "b9mwr21KfXOW",
        "outputId": "7427a865-a13d-41ca-ac72-10d24baec37b"
      },
      "execution_count": 4,
      "outputs": [
        {
          "output_type": "stream",
          "name": "stdout",
          "text": [
            "['2006', '2007', '2008', '2009', '2010', '2011', '2012', '2013', '2014', '2015', '2016', '2017', '2018', '2019', '2020', '2021', '2022']\n"
          ]
        }
      ]
    },
    {
      "cell_type": "markdown",
      "source": [
        "Uma vez decididos a doença e o ano que serão utilizados para a visualização, baixamos o arquivo de dados com a função `read_parquet()` do Pandas."
      ],
      "metadata": {
        "id": "kn1MuZfmjLdH"
      }
    },
    {
      "cell_type": "code",
      "source": [
        "path = SINAN.download('Acidentes de Trabalho', int(anos[1]))\n",
        "dataframe = pd.read_parquet(path)"
      ],
      "metadata": {
        "id": "hapDzhDCf0dN"
      },
      "execution_count": 5,
      "outputs": []
    },
    {
      "cell_type": "markdown",
      "source": [
        "O objeto retornado da função é do tipo DataFrame:"
      ],
      "metadata": {
        "id": "ea-kPzQZjxrj"
      }
    },
    {
      "cell_type": "code",
      "source": [
        "print(type(dataframe))\n",
        "dataframe"
      ],
      "metadata": {
        "colab": {
          "base_uri": "https://localhost:8080/",
          "height": 505
        },
        "id": "JyFKxcs_g__m",
        "outputId": "b2996ce6-ebdd-49bb-af48-939fb7e66c1b"
      },
      "execution_count": 6,
      "outputs": [
        {
          "output_type": "stream",
          "name": "stdout",
          "text": [
            "<class 'pandas.core.frame.DataFrame'>\n"
          ]
        },
        {
          "output_type": "execute_result",
          "data": {
            "text/plain": [
              "      TP_NOT ID_AGRAVO DT_NOTIFIC SEM_NOT NU_ANO SG_UF_NOT ID_MUNICIP  \\\n",
              "0          2      Y96    20070104  200701   2007        35     351380   \n",
              "1          2      Y96    20070127  200704   2007        35     351380   \n",
              "2          2      Y96    20070131  200705   2007        35     351380   \n",
              "3          2      Y96    20070128  200705   2007        35     351380   \n",
              "4          2      Y96    20070123  200704   2007        35     351380   \n",
              "...      ...       ...        ...     ...    ...       ...        ...   \n",
              "19720      2      Y96    20071227  200752   2007        35     354870   \n",
              "19721      2      Y96    20071211  200750   2007        35     354870   \n",
              "19722      2      Y96    20071210  200750   2007        29     291470   \n",
              "19723      2      Y96    20071223  200752   2007        29     290840   \n",
              "19724      2      Y96    20071219  200751   2007        29     290840   \n",
              "\n",
              "      ID_REGIONA ID_UNIDADE   DT_ACID  ... MUN_ATENDE UNI_ATENDE PART_CORP1  \\\n",
              "0       1332        2086107  20070104  ...     351380                    06   \n",
              "1       1332        2086107  20070127  ...     351380    2080028         02   \n",
              "2       1332        2086107  20070131  ...     351380    2080028         06   \n",
              "3       1332        2086107  20070128  ...     351380    2080028         06   \n",
              "4       1332        2086107  20070123  ...     351380    2080028         06   \n",
              "...          ...        ...       ...  ...        ...        ...        ...   \n",
              "19720   1332        5239869  20070917  ...     354870    5239869         11   \n",
              "19721   1332        5239869  20071119  ...     354870    2080591         06   \n",
              "19722   1396        5369746  20070703  ...     291470    2470152         02   \n",
              "19723   1410        5634369  20071122  ...     290840    2598205         10   \n",
              "19724   1410        5634369  20070806  ...     292800    2510278         06   \n",
              "\n",
              "      PART_CORP2 PART_CORP3 CID_LESAO REGIME EVOLUCAO  DT_OBITO CAT  \n",
              "0                                S68       3        9             1  \n",
              "1             03                 S06       2        9             1  \n",
              "2                                S69       2        9             1  \n",
              "3                                S67       2        9             1  \n",
              "4                                S68       3        9             1  \n",
              "...          ...        ...       ...    ...      ...       ...  ..  \n",
              "19720         99         99      M544      2        2             1  \n",
              "19721         99         99      S626      2        2             1  \n",
              "19722         07         08      T932      2        3             1  \n",
              "19723                            T290      1        3             2  \n",
              "19724                            S681      2        2             1  \n",
              "\n",
              "[19725 rows x 54 columns]"
            ],
            "text/html": [
              "\n",
              "  <div id=\"df-3f44d333-4765-4528-a1b1-c89b20208372\">\n",
              "    <div class=\"colab-df-container\">\n",
              "      <div>\n",
              "<style scoped>\n",
              "    .dataframe tbody tr th:only-of-type {\n",
              "        vertical-align: middle;\n",
              "    }\n",
              "\n",
              "    .dataframe tbody tr th {\n",
              "        vertical-align: top;\n",
              "    }\n",
              "\n",
              "    .dataframe thead th {\n",
              "        text-align: right;\n",
              "    }\n",
              "</style>\n",
              "<table border=\"1\" class=\"dataframe\">\n",
              "  <thead>\n",
              "    <tr style=\"text-align: right;\">\n",
              "      <th></th>\n",
              "      <th>TP_NOT</th>\n",
              "      <th>ID_AGRAVO</th>\n",
              "      <th>DT_NOTIFIC</th>\n",
              "      <th>SEM_NOT</th>\n",
              "      <th>NU_ANO</th>\n",
              "      <th>SG_UF_NOT</th>\n",
              "      <th>ID_MUNICIP</th>\n",
              "      <th>ID_REGIONA</th>\n",
              "      <th>ID_UNIDADE</th>\n",
              "      <th>DT_ACID</th>\n",
              "      <th>...</th>\n",
              "      <th>MUN_ATENDE</th>\n",
              "      <th>UNI_ATENDE</th>\n",
              "      <th>PART_CORP1</th>\n",
              "      <th>PART_CORP2</th>\n",
              "      <th>PART_CORP3</th>\n",
              "      <th>CID_LESAO</th>\n",
              "      <th>REGIME</th>\n",
              "      <th>EVOLUCAO</th>\n",
              "      <th>DT_OBITO</th>\n",
              "      <th>CAT</th>\n",
              "    </tr>\n",
              "  </thead>\n",
              "  <tbody>\n",
              "    <tr>\n",
              "      <th>0</th>\n",
              "      <td>2</td>\n",
              "      <td>Y96</td>\n",
              "      <td>20070104</td>\n",
              "      <td>200701</td>\n",
              "      <td>2007</td>\n",
              "      <td>35</td>\n",
              "      <td>351380</td>\n",
              "      <td>1332</td>\n",
              "      <td>2086107</td>\n",
              "      <td>20070104</td>\n",
              "      <td>...</td>\n",
              "      <td>351380</td>\n",
              "      <td></td>\n",
              "      <td>06</td>\n",
              "      <td></td>\n",
              "      <td></td>\n",
              "      <td>S68</td>\n",
              "      <td>3</td>\n",
              "      <td>9</td>\n",
              "      <td></td>\n",
              "      <td>1</td>\n",
              "    </tr>\n",
              "    <tr>\n",
              "      <th>1</th>\n",
              "      <td>2</td>\n",
              "      <td>Y96</td>\n",
              "      <td>20070127</td>\n",
              "      <td>200704</td>\n",
              "      <td>2007</td>\n",
              "      <td>35</td>\n",
              "      <td>351380</td>\n",
              "      <td>1332</td>\n",
              "      <td>2086107</td>\n",
              "      <td>20070127</td>\n",
              "      <td>...</td>\n",
              "      <td>351380</td>\n",
              "      <td>2080028</td>\n",
              "      <td>02</td>\n",
              "      <td>03</td>\n",
              "      <td></td>\n",
              "      <td>S06</td>\n",
              "      <td>2</td>\n",
              "      <td>9</td>\n",
              "      <td></td>\n",
              "      <td>1</td>\n",
              "    </tr>\n",
              "    <tr>\n",
              "      <th>2</th>\n",
              "      <td>2</td>\n",
              "      <td>Y96</td>\n",
              "      <td>20070131</td>\n",
              "      <td>200705</td>\n",
              "      <td>2007</td>\n",
              "      <td>35</td>\n",
              "      <td>351380</td>\n",
              "      <td>1332</td>\n",
              "      <td>2086107</td>\n",
              "      <td>20070131</td>\n",
              "      <td>...</td>\n",
              "      <td>351380</td>\n",
              "      <td>2080028</td>\n",
              "      <td>06</td>\n",
              "      <td></td>\n",
              "      <td></td>\n",
              "      <td>S69</td>\n",
              "      <td>2</td>\n",
              "      <td>9</td>\n",
              "      <td></td>\n",
              "      <td>1</td>\n",
              "    </tr>\n",
              "    <tr>\n",
              "      <th>3</th>\n",
              "      <td>2</td>\n",
              "      <td>Y96</td>\n",
              "      <td>20070128</td>\n",
              "      <td>200705</td>\n",
              "      <td>2007</td>\n",
              "      <td>35</td>\n",
              "      <td>351380</td>\n",
              "      <td>1332</td>\n",
              "      <td>2086107</td>\n",
              "      <td>20070128</td>\n",
              "      <td>...</td>\n",
              "      <td>351380</td>\n",
              "      <td>2080028</td>\n",
              "      <td>06</td>\n",
              "      <td></td>\n",
              "      <td></td>\n",
              "      <td>S67</td>\n",
              "      <td>2</td>\n",
              "      <td>9</td>\n",
              "      <td></td>\n",
              "      <td>1</td>\n",
              "    </tr>\n",
              "    <tr>\n",
              "      <th>4</th>\n",
              "      <td>2</td>\n",
              "      <td>Y96</td>\n",
              "      <td>20070123</td>\n",
              "      <td>200704</td>\n",
              "      <td>2007</td>\n",
              "      <td>35</td>\n",
              "      <td>351380</td>\n",
              "      <td>1332</td>\n",
              "      <td>2086107</td>\n",
              "      <td>20070123</td>\n",
              "      <td>...</td>\n",
              "      <td>351380</td>\n",
              "      <td>2080028</td>\n",
              "      <td>06</td>\n",
              "      <td></td>\n",
              "      <td></td>\n",
              "      <td>S68</td>\n",
              "      <td>3</td>\n",
              "      <td>9</td>\n",
              "      <td></td>\n",
              "      <td>1</td>\n",
              "    </tr>\n",
              "    <tr>\n",
              "      <th>...</th>\n",
              "      <td>...</td>\n",
              "      <td>...</td>\n",
              "      <td>...</td>\n",
              "      <td>...</td>\n",
              "      <td>...</td>\n",
              "      <td>...</td>\n",
              "      <td>...</td>\n",
              "      <td>...</td>\n",
              "      <td>...</td>\n",
              "      <td>...</td>\n",
              "      <td>...</td>\n",
              "      <td>...</td>\n",
              "      <td>...</td>\n",
              "      <td>...</td>\n",
              "      <td>...</td>\n",
              "      <td>...</td>\n",
              "      <td>...</td>\n",
              "      <td>...</td>\n",
              "      <td>...</td>\n",
              "      <td>...</td>\n",
              "      <td>...</td>\n",
              "    </tr>\n",
              "    <tr>\n",
              "      <th>19720</th>\n",
              "      <td>2</td>\n",
              "      <td>Y96</td>\n",
              "      <td>20071227</td>\n",
              "      <td>200752</td>\n",
              "      <td>2007</td>\n",
              "      <td>35</td>\n",
              "      <td>354870</td>\n",
              "      <td>1332</td>\n",
              "      <td>5239869</td>\n",
              "      <td>20070917</td>\n",
              "      <td>...</td>\n",
              "      <td>354870</td>\n",
              "      <td>5239869</td>\n",
              "      <td>11</td>\n",
              "      <td>99</td>\n",
              "      <td>99</td>\n",
              "      <td>M544</td>\n",
              "      <td>2</td>\n",
              "      <td>2</td>\n",
              "      <td></td>\n",
              "      <td>1</td>\n",
              "    </tr>\n",
              "    <tr>\n",
              "      <th>19721</th>\n",
              "      <td>2</td>\n",
              "      <td>Y96</td>\n",
              "      <td>20071211</td>\n",
              "      <td>200750</td>\n",
              "      <td>2007</td>\n",
              "      <td>35</td>\n",
              "      <td>354870</td>\n",
              "      <td>1332</td>\n",
              "      <td>5239869</td>\n",
              "      <td>20071119</td>\n",
              "      <td>...</td>\n",
              "      <td>354870</td>\n",
              "      <td>2080591</td>\n",
              "      <td>06</td>\n",
              "      <td>99</td>\n",
              "      <td>99</td>\n",
              "      <td>S626</td>\n",
              "      <td>2</td>\n",
              "      <td>2</td>\n",
              "      <td></td>\n",
              "      <td>1</td>\n",
              "    </tr>\n",
              "    <tr>\n",
              "      <th>19722</th>\n",
              "      <td>2</td>\n",
              "      <td>Y96</td>\n",
              "      <td>20071210</td>\n",
              "      <td>200750</td>\n",
              "      <td>2007</td>\n",
              "      <td>29</td>\n",
              "      <td>291470</td>\n",
              "      <td>1396</td>\n",
              "      <td>5369746</td>\n",
              "      <td>20070703</td>\n",
              "      <td>...</td>\n",
              "      <td>291470</td>\n",
              "      <td>2470152</td>\n",
              "      <td>02</td>\n",
              "      <td>07</td>\n",
              "      <td>08</td>\n",
              "      <td>T932</td>\n",
              "      <td>2</td>\n",
              "      <td>3</td>\n",
              "      <td></td>\n",
              "      <td>1</td>\n",
              "    </tr>\n",
              "    <tr>\n",
              "      <th>19723</th>\n",
              "      <td>2</td>\n",
              "      <td>Y96</td>\n",
              "      <td>20071223</td>\n",
              "      <td>200752</td>\n",
              "      <td>2007</td>\n",
              "      <td>29</td>\n",
              "      <td>290840</td>\n",
              "      <td>1410</td>\n",
              "      <td>5634369</td>\n",
              "      <td>20071122</td>\n",
              "      <td>...</td>\n",
              "      <td>290840</td>\n",
              "      <td>2598205</td>\n",
              "      <td>10</td>\n",
              "      <td></td>\n",
              "      <td></td>\n",
              "      <td>T290</td>\n",
              "      <td>1</td>\n",
              "      <td>3</td>\n",
              "      <td></td>\n",
              "      <td>2</td>\n",
              "    </tr>\n",
              "    <tr>\n",
              "      <th>19724</th>\n",
              "      <td>2</td>\n",
              "      <td>Y96</td>\n",
              "      <td>20071219</td>\n",
              "      <td>200751</td>\n",
              "      <td>2007</td>\n",
              "      <td>29</td>\n",
              "      <td>290840</td>\n",
              "      <td>1410</td>\n",
              "      <td>5634369</td>\n",
              "      <td>20070806</td>\n",
              "      <td>...</td>\n",
              "      <td>292800</td>\n",
              "      <td>2510278</td>\n",
              "      <td>06</td>\n",
              "      <td></td>\n",
              "      <td></td>\n",
              "      <td>S681</td>\n",
              "      <td>2</td>\n",
              "      <td>2</td>\n",
              "      <td></td>\n",
              "      <td>1</td>\n",
              "    </tr>\n",
              "  </tbody>\n",
              "</table>\n",
              "<p>19725 rows × 54 columns</p>\n",
              "</div>\n",
              "      <button class=\"colab-df-convert\" onclick=\"convertToInteractive('df-3f44d333-4765-4528-a1b1-c89b20208372')\"\n",
              "              title=\"Convert this dataframe to an interactive table.\"\n",
              "              style=\"display:none;\">\n",
              "        \n",
              "  <svg xmlns=\"http://www.w3.org/2000/svg\" height=\"24px\"viewBox=\"0 0 24 24\"\n",
              "       width=\"24px\">\n",
              "    <path d=\"M0 0h24v24H0V0z\" fill=\"none\"/>\n",
              "    <path d=\"M18.56 5.44l.94 2.06.94-2.06 2.06-.94-2.06-.94-.94-2.06-.94 2.06-2.06.94zm-11 1L8.5 8.5l.94-2.06 2.06-.94-2.06-.94L8.5 2.5l-.94 2.06-2.06.94zm10 10l.94 2.06.94-2.06 2.06-.94-2.06-.94-.94-2.06-.94 2.06-2.06.94z\"/><path d=\"M17.41 7.96l-1.37-1.37c-.4-.4-.92-.59-1.43-.59-.52 0-1.04.2-1.43.59L10.3 9.45l-7.72 7.72c-.78.78-.78 2.05 0 2.83L4 21.41c.39.39.9.59 1.41.59.51 0 1.02-.2 1.41-.59l7.78-7.78 2.81-2.81c.8-.78.8-2.07 0-2.86zM5.41 20L4 18.59l7.72-7.72 1.47 1.35L5.41 20z\"/>\n",
              "  </svg>\n",
              "      </button>\n",
              "      \n",
              "  <style>\n",
              "    .colab-df-container {\n",
              "      display:flex;\n",
              "      flex-wrap:wrap;\n",
              "      gap: 12px;\n",
              "    }\n",
              "\n",
              "    .colab-df-convert {\n",
              "      background-color: #E8F0FE;\n",
              "      border: none;\n",
              "      border-radius: 50%;\n",
              "      cursor: pointer;\n",
              "      display: none;\n",
              "      fill: #1967D2;\n",
              "      height: 32px;\n",
              "      padding: 0 0 0 0;\n",
              "      width: 32px;\n",
              "    }\n",
              "\n",
              "    .colab-df-convert:hover {\n",
              "      background-color: #E2EBFA;\n",
              "      box-shadow: 0px 1px 2px rgba(60, 64, 67, 0.3), 0px 1px 3px 1px rgba(60, 64, 67, 0.15);\n",
              "      fill: #174EA6;\n",
              "    }\n",
              "\n",
              "    [theme=dark] .colab-df-convert {\n",
              "      background-color: #3B4455;\n",
              "      fill: #D2E3FC;\n",
              "    }\n",
              "\n",
              "    [theme=dark] .colab-df-convert:hover {\n",
              "      background-color: #434B5C;\n",
              "      box-shadow: 0px 1px 3px 1px rgba(0, 0, 0, 0.15);\n",
              "      filter: drop-shadow(0px 1px 2px rgba(0, 0, 0, 0.3));\n",
              "      fill: #FFFFFF;\n",
              "    }\n",
              "  </style>\n",
              "\n",
              "      <script>\n",
              "        const buttonEl =\n",
              "          document.querySelector('#df-3f44d333-4765-4528-a1b1-c89b20208372 button.colab-df-convert');\n",
              "        buttonEl.style.display =\n",
              "          google.colab.kernel.accessAllowed ? 'block' : 'none';\n",
              "\n",
              "        async function convertToInteractive(key) {\n",
              "          const element = document.querySelector('#df-3f44d333-4765-4528-a1b1-c89b20208372');\n",
              "          const dataTable =\n",
              "            await google.colab.kernel.invokeFunction('convertToInteractive',\n",
              "                                                     [key], {});\n",
              "          if (!dataTable) return;\n",
              "\n",
              "          const docLinkHtml = 'Like what you see? Visit the ' +\n",
              "            '<a target=\"_blank\" href=https://colab.research.google.com/notebooks/data_table.ipynb>data table notebook</a>'\n",
              "            + ' to learn more about interactive tables.';\n",
              "          element.innerHTML = '';\n",
              "          dataTable['output_type'] = 'display_data';\n",
              "          await google.colab.output.renderOutput(dataTable, element);\n",
              "          const docLink = document.createElement('div');\n",
              "          docLink.innerHTML = docLinkHtml;\n",
              "          element.appendChild(docLink);\n",
              "        }\n",
              "      </script>\n",
              "    </div>\n",
              "  </div>\n",
              "  "
            ]
          },
          "metadata": {},
          "execution_count": 6
        }
      ]
    },
    {
      "cell_type": "markdown",
      "source": [
        "Como podemos ver, um DataFrame é um objeto de Python que se assemelha muito a uma tabela. Se pedirmos a propriedade `.shape` de um DataFrame, ela nos retornará uma tupla com as dimensões da tabela. Nesse caso temos 19.725 linhas, e 54 colunas:"
      ],
      "metadata": {
        "id": "9mv31E05j3Lx"
      }
    },
    {
      "cell_type": "code",
      "source": [
        "dataframe.shape"
      ],
      "metadata": {
        "colab": {
          "base_uri": "https://localhost:8080/"
        },
        "id": "1V_9rxnhiQuq",
        "outputId": "90d686b6-d7fb-4276-ffd6-46aa725125a7"
      },
      "execution_count": 7,
      "outputs": [
        {
          "output_type": "execute_result",
          "data": {
            "text/plain": [
              "(19725, 54)"
            ]
          },
          "metadata": {},
          "execution_count": 7
        }
      ]
    },
    {
      "cell_type": "markdown",
      "source": [
        "# Manipulando dados de um DataFrame"
      ],
      "metadata": {
        "id": "hS5Jz9HOrit7"
      }
    },
    {
      "cell_type": "markdown",
      "source": [
        "Para retirar uma única coluna de um DataFrame, o acessamos com colchetes e chamamos a string correspondente ao nome da coluna:"
      ],
      "metadata": {
        "id": "524NsaUDkk82"
      }
    },
    {
      "cell_type": "code",
      "source": [
        "serie = dataframe['CS_SEXO']\n",
        "serie"
      ],
      "metadata": {
        "colab": {
          "base_uri": "https://localhost:8080/"
        },
        "id": "yCyxFZ8XiXSZ",
        "outputId": "471113c3-b398-4fce-9a90-95fb6d2d22a0"
      },
      "execution_count": 8,
      "outputs": [
        {
          "output_type": "execute_result",
          "data": {
            "text/plain": [
              "0        M\n",
              "1        F\n",
              "2        M\n",
              "3        M\n",
              "4        M\n",
              "        ..\n",
              "19720    F\n",
              "19721    M\n",
              "19722    M\n",
              "19723    M\n",
              "19724    M\n",
              "Name: CS_SEXO, Length: 19725, dtype: object"
            ]
          },
          "metadata": {},
          "execution_count": 8
        }
      ]
    },
    {
      "cell_type": "markdown",
      "source": [
        "Cada coluna do DataFrame é de um outro tipo especial de Pandas: uma Série."
      ],
      "metadata": {
        "id": "RjvSdtB3k0h_"
      }
    },
    {
      "cell_type": "code",
      "source": [
        "type(serie)"
      ],
      "metadata": {
        "colab": {
          "base_uri": "https://localhost:8080/"
        },
        "id": "0vWAVzIsjFcL",
        "outputId": "1b3d7779-803d-4c7e-e27a-fb99a59ae94a"
      },
      "execution_count": 9,
      "outputs": [
        {
          "output_type": "execute_result",
          "data": {
            "text/plain": [
              "pandas.core.series.Series"
            ]
          },
          "metadata": {},
          "execution_count": 9
        }
      ]
    },
    {
      "cell_type": "markdown",
      "source": [
        "Através da coluna destacada como série, podemos ainda utilizar o NumPy para convertê-la em um Array, e assim manipulá-lo matematicamente."
      ],
      "metadata": {
        "id": "pad-wgxllIcy"
      }
    },
    {
      "cell_type": "code",
      "source": [
        "serie2 = dataframe[\"PART_CORP2\"]\n",
        "array2 = np.array(serie2)\n",
        "print(array2.dtype)"
      ],
      "metadata": {
        "id": "pLrgSNU7jaVp",
        "colab": {
          "base_uri": "https://localhost:8080/"
        },
        "outputId": "631bbc11-20aa-4a9e-890c-ed8577c7876c"
      },
      "execution_count": 16,
      "outputs": [
        {
          "output_type": "stream",
          "name": "stdout",
          "text": [
            "object\n"
          ]
        }
      ]
    },
    {
      "cell_type": "markdown",
      "source": [
        "Porém temos um problema: esse array veio com o mesmo tipo da série, que originalmente era do tipo `object` - o tipo mais genérico do NumPy. Esse tipo abrange a maioria dos conteúdos possíveis, mas não suporta operações matemáticas. \n",
        "\n",
        "Podemos tentar fazer uma conversão direta para número:"
      ],
      "metadata": {
        "id": "OIGtpRsAl_zl"
      }
    },
    {
      "cell_type": "code",
      "source": [
        "# array2 = array2.astype(\"float64\")"
      ],
      "metadata": {
        "colab": {
          "base_uri": "https://localhost:8080/",
          "height": 165
        },
        "id": "ckSIzEBtj3MO",
        "outputId": "527d5d2b-2fe1-4da1-b10d-80ebf1bd28e2"
      },
      "execution_count": 17,
      "outputs": [
        {
          "output_type": "error",
          "ename": "ValueError",
          "evalue": "ignored",
          "traceback": [
            "\u001b[0;31m---------------------------------------------------------------------------\u001b[0m",
            "\u001b[0;31mValueError\u001b[0m                                Traceback (most recent call last)",
            "\u001b[0;32m/tmp/ipykernel_3535/3422690222.py\u001b[0m in \u001b[0;36m<cell line: 1>\u001b[0;34m()\u001b[0m\n\u001b[0;32m----> 1\u001b[0;31m \u001b[0marray2\u001b[0m \u001b[0;34m=\u001b[0m \u001b[0marray2\u001b[0m\u001b[0;34m.\u001b[0m\u001b[0mastype\u001b[0m\u001b[0;34m(\u001b[0m\u001b[0;34m\"float64\"\u001b[0m\u001b[0;34m)\u001b[0m\u001b[0;34m\u001b[0m\u001b[0;34m\u001b[0m\u001b[0m\n\u001b[0m",
            "\u001b[0;31mValueError\u001b[0m: could not convert string to float: '  '"
          ]
        }
      ]
    },
    {
      "cell_type": "markdown",
      "source": [
        "A célula acima dará um erro, e a mensagem nos diz que não é possível converter as células que possuem uma string vazia para float64. Nesse caso, podemos fazer um leve tratamento: Vamos substituir as strings vazias por zeros."
      ],
      "metadata": {
        "id": "WKYyCATtqhip"
      }
    },
    {
      "cell_type": "code",
      "source": [
        "array2[array2=='  '] = 0\n",
        "array2 = array2.astype(\"float64\")\n",
        "array2"
      ],
      "metadata": {
        "colab": {
          "base_uri": "https://localhost:8080/"
        },
        "id": "RpimcbWVq1dr",
        "outputId": "8a2b2553-bcf0-47e9-e91b-fab76a93c78b"
      },
      "execution_count": 18,
      "outputs": [
        {
          "output_type": "execute_result",
          "data": {
            "text/plain": [
              "array([0., 3., 0., ..., 7., 0., 0.])"
            ]
          },
          "metadata": {},
          "execution_count": 18
        }
      ]
    },
    {
      "cell_type": "markdown",
      "source": [
        "Funcionou! Agora que o tipo é numérico, podemos fazer operações matemáticas, como a multiplicação elemento-a-elemento:"
      ],
      "metadata": {
        "id": "JepwmkConU6Q"
      }
    },
    {
      "cell_type": "code",
      "source": [
        "array3 = array2 * array2\n",
        "print(array3.shape)\n",
        "array3"
      ],
      "metadata": {
        "colab": {
          "base_uri": "https://localhost:8080/"
        },
        "id": "3aWdvpDwmb-V",
        "outputId": "defc96ea-2021-45e4-9e8f-0cd5a05cd44d"
      },
      "execution_count": 21,
      "outputs": [
        {
          "output_type": "stream",
          "name": "stdout",
          "text": [
            "(19725,)\n"
          ]
        },
        {
          "output_type": "execute_result",
          "data": {
            "text/plain": [
              "array([ 0.,  9.,  0., ..., 49.,  0.,  0.])"
            ]
          },
          "metadata": {},
          "execution_count": 21
        }
      ]
    },
    {
      "cell_type": "markdown",
      "source": [
        "Para inserir uma coluna nova, podemos acessar o DataFrame com o nome de uma coluna que não existe, e definir nela um array ou série da dimensão correta:"
      ],
      "metadata": {
        "id": "u2dmJJ5urHI5"
      }
    },
    {
      "cell_type": "code",
      "source": [
        "dataframe[\"COLUNA_NOVA\"] = array3"
      ],
      "metadata": {
        "id": "IbXGBppnnAg-"
      },
      "execution_count": 22,
      "outputs": []
    },
    {
      "cell_type": "markdown",
      "source": [
        "E para remover uma coluna, podemos utilizar o método `.pop()`"
      ],
      "metadata": {
        "id": "Bf6tt_K4wRYq"
      }
    },
    {
      "cell_type": "code",
      "source": [
        "dataframe.pop(\"COLUNA_NOVA\")"
      ],
      "metadata": {
        "colab": {
          "base_uri": "https://localhost:8080/"
        },
        "id": "Xu6jZFxrq1zf",
        "outputId": "989265aa-e7f2-4b4a-baea-fcbebdfdd9a4"
      },
      "execution_count": 32,
      "outputs": [
        {
          "output_type": "execute_result",
          "data": {
            "text/plain": [
              "0           0.0\n",
              "1           9.0\n",
              "2           0.0\n",
              "3           0.0\n",
              "4           0.0\n",
              "          ...  \n",
              "19720    9801.0\n",
              "19721    9801.0\n",
              "19722      49.0\n",
              "19723       0.0\n",
              "19724       0.0\n",
              "Name: COLUNA_NOVA, Length: 19725, dtype: float64"
            ]
          },
          "metadata": {},
          "execution_count": 32
        }
      ]
    },
    {
      "cell_type": "markdown",
      "source": [
        "# Métodos de acesso em DataFrame"
      ],
      "metadata": {
        "id": "mLcaITZnrW3W"
      }
    },
    {
      "cell_type": "markdown",
      "source": [
        "Através do acesso padrão, só conseguimos passar o nome de colunas"
      ],
      "metadata": {
        "id": "V_YA7Ampr1Vd"
      }
    },
    {
      "cell_type": "code",
      "source": [
        "dataframe['ID_AGRAVO'] # Só consigo acessar as colunas"
      ],
      "metadata": {
        "colab": {
          "base_uri": "https://localhost:8080/"
        },
        "id": "MVivInLZnNFu",
        "outputId": "cee2ef7e-daac-4548-a7e1-6247403ac826"
      },
      "execution_count": 31,
      "outputs": [
        {
          "output_type": "execute_result",
          "data": {
            "text/plain": [
              "0        Y96 \n",
              "1        Y96 \n",
              "2        Y96 \n",
              "3        Y96 \n",
              "4        Y96 \n",
              "         ... \n",
              "19720    Y96 \n",
              "19721    Y96 \n",
              "19722    Y96 \n",
              "19723    Y96 \n",
              "19724    Y96 \n",
              "Name: ID_AGRAVO, Length: 19725, dtype: object"
            ]
          },
          "metadata": {},
          "execution_count": 31
        }
      ]
    },
    {
      "cell_type": "markdown",
      "source": [
        "Para acessar linhas, podemos usar a propriedade `.loc`. Com ela, fazemos o acesso através de colchetes, e passamos o NOME do que queremos: primeiro o nome da linha, e depois o nome da coluna. Também podemos passar slices como fazíamos em listas, e se passarmos tanto o nome de uma linha como o de uma coluna, acessamos o exato elemento no cruzamento das duas. "
      ],
      "metadata": {
        "id": "vGtSfl4ur_LH"
      }
    },
    {
      "cell_type": "code",
      "source": [
        "dataframe.loc[:, \"TP_NOT\"] # Pelo nome, posso acessar linhas ou colunas"
      ],
      "metadata": {
        "colab": {
          "base_uri": "https://localhost:8080/"
        },
        "id": "D-awUQ2pnU1v",
        "outputId": "34c4fee0-7ecf-4398-9cf9-4dab0769fdef"
      },
      "execution_count": 24,
      "outputs": [
        {
          "output_type": "execute_result",
          "data": {
            "text/plain": [
              "0        2\n",
              "1        2\n",
              "2        2\n",
              "3        2\n",
              "4        2\n",
              "        ..\n",
              "19720    2\n",
              "19721    2\n",
              "19722    2\n",
              "19723    2\n",
              "19724    2\n",
              "Name: TP_NOT, Length: 19725, dtype: object"
            ]
          },
          "metadata": {},
          "execution_count": 24
        }
      ]
    },
    {
      "cell_type": "markdown",
      "source": [
        "É importante lembrar que os índices das linhas nem sempre são numéricos: assim como as colunas eles podem ser objetos, strings e até números aleatórios. Nesses casos, também temos um método de indexação por posição: a propriedade `.iloc`."
      ],
      "metadata": {
        "id": "mG0y3NI_tich"
      }
    },
    {
      "cell_type": "code",
      "source": [
        "dataframe.iloc[14, 4] # Elemento na 14ª linha, 4ª coluna"
      ],
      "metadata": {
        "colab": {
          "base_uri": "https://localhost:8080/",
          "height": 36
        },
        "id": "m7Nx93fnokcS",
        "outputId": "cb4538d1-b9a7-4d3e-c81f-ce5f70a2c8bd"
      },
      "execution_count": 33,
      "outputs": [
        {
          "output_type": "execute_result",
          "data": {
            "text/plain": [
              "'2007'"
            ],
            "application/vnd.google.colaboratory.intrinsic+json": {
              "type": "string"
            }
          },
          "metadata": {},
          "execution_count": 33
        }
      ]
    },
    {
      "cell_type": "markdown",
      "source": [
        "Com a qual também podemos utilizar slices e índices negativos:"
      ],
      "metadata": {
        "id": "1r9pmEr6ucmR"
      }
    },
    {
      "cell_type": "code",
      "source": [
        "dataframe.iloc[:, -1]"
      ],
      "metadata": {
        "colab": {
          "base_uri": "https://localhost:8080/"
        },
        "id": "8wUlRNzYo1EK",
        "outputId": "61140604-8f22-444b-8a31-4bbefef0da69"
      },
      "execution_count": 34,
      "outputs": [
        {
          "output_type": "execute_result",
          "data": {
            "text/plain": [
              "0        1\n",
              "1        1\n",
              "2        1\n",
              "3        1\n",
              "4        1\n",
              "        ..\n",
              "19720    1\n",
              "19721    1\n",
              "19722    1\n",
              "19723    2\n",
              "19724    1\n",
              "Name: CAT, Length: 19725, dtype: object"
            ]
          },
          "metadata": {},
          "execution_count": 34
        }
      ]
    },
    {
      "cell_type": "markdown",
      "source": [
        "# Métodos de DataFrame"
      ],
      "metadata": {
        "id": "jbWeKqcbujFe"
      }
    },
    {
      "cell_type": "markdown",
      "source": [
        "Se quisermos, podemos pedir para um DataFrame uma \"lista\" com os nomes de suas colunas (na verdade é um objeto do tipo Index, mas pode ser convertido com `list()` e utilizado da mesma forma que uma)"
      ],
      "metadata": {
        "id": "KYnqdC6Zul0f"
      }
    },
    {
      "cell_type": "code",
      "source": [
        "dataframe.keys()"
      ],
      "metadata": {
        "colab": {
          "base_uri": "https://localhost:8080/"
        },
        "id": "xpDAE4PCpueb",
        "outputId": "dd97d5d3-b414-4d14-877b-5ee42ba21043"
      },
      "execution_count": 35,
      "outputs": [
        {
          "output_type": "execute_result",
          "data": {
            "text/plain": [
              "Index(['TP_NOT', 'ID_AGRAVO', 'DT_NOTIFIC', 'SEM_NOT', 'NU_ANO', 'SG_UF_NOT',\n",
              "       'ID_MUNICIP', 'ID_REGIONA', 'ID_UNIDADE', 'DT_ACID', 'SEM_ACID',\n",
              "       'ANO_NASC', 'NU_IDADE_N', 'CS_SEXO', 'CS_GESTANT', 'CS_RACA',\n",
              "       'CS_ESCOL_N', 'SG_UF', 'ID_MN_RESI', 'ID_RG_RESI', 'ID_PAIS',\n",
              "       'ID_OCUPA_N', 'SIT_TRAB', 'NUTEMPO', 'TPTEMPO', 'LOCAL_ACID', 'CNAE',\n",
              "       'UF_EMP', 'MUN_EMP', 'TERCEIRIZA', 'CNAE_PRIN', 'HORA_ACID', 'MIN_ACID',\n",
              "       'HORA_JOR', 'MIN_JOR', 'UF_ACID', 'MUN_ACID', 'CID_ACID', 'TIPO_ACID',\n",
              "       'MAIS_TRAB', 'NU_TRAB', 'ATENDE_MED', 'DT_ATENDE', 'UF_ATENDE',\n",
              "       'MUN_ATENDE', 'UNI_ATENDE', 'PART_CORP1', 'PART_CORP2', 'PART_CORP3',\n",
              "       'CID_LESAO', 'REGIME', 'EVOLUCAO', 'DT_OBITO', 'CAT'],\n",
              "      dtype='object')"
            ]
          },
          "metadata": {},
          "execution_count": 35
        }
      ]
    },
    {
      "cell_type": "markdown",
      "source": [
        "Da mesma forma, temos uma propriedade que nos retorna uma lista (nesse caso um array) com os valores definidos como índices do DataFrame."
      ],
      "metadata": {
        "id": "-YtGszt0vNBY"
      }
    },
    {
      "cell_type": "code",
      "source": [
        "dataframe.index.values"
      ],
      "metadata": {
        "colab": {
          "base_uri": "https://localhost:8080/"
        },
        "id": "wiQJ-4knp2CK",
        "outputId": "cba6aebc-9d51-4c1e-a6ca-4aa530a773b4"
      },
      "execution_count": 28,
      "outputs": [
        {
          "output_type": "execute_result",
          "data": {
            "text/plain": [
              "array([    0,     1,     2, ..., 19722, 19723, 19724])"
            ]
          },
          "metadata": {},
          "execution_count": 28
        }
      ]
    },
    {
      "cell_type": "markdown",
      "source": [
        "Por fim, temos uma forma de \"simplificar\" o DataFrame, retirando os nomes das colunas e os índices personalizados das linhas. Teoricamente, estamos convertendo nossa tabela para uma \"matriz\" bidimensional, que herda o tipo do DataFrame."
      ],
      "metadata": {
        "id": "MIir14eMvWvW"
      }
    },
    {
      "cell_type": "code",
      "source": [
        "arrayzao = dataframe.values\n",
        "arrayzao"
      ],
      "metadata": {
        "colab": {
          "base_uri": "https://localhost:8080/"
        },
        "id": "OEQihEBCqSF-",
        "outputId": "40d0a8d0-eea8-4c17-9085-f560fe1d70a5"
      },
      "execution_count": 29,
      "outputs": [
        {
          "output_type": "execute_result",
          "data": {
            "text/plain": [
              "array([['2', 'Y96 ', '20070104', ..., '        ', '1', 0.0],\n",
              "       ['2', 'Y96 ', '20070127', ..., '        ', '1', 9.0],\n",
              "       ['2', 'Y96 ', '20070131', ..., '        ', '1', 0.0],\n",
              "       ...,\n",
              "       ['2', 'Y96 ', '20071210', ..., '        ', '1', 49.0],\n",
              "       ['2', 'Y96 ', '20071223', ..., '        ', '2', 0.0],\n",
              "       ['2', 'Y96 ', '20071219', ..., '        ', '1', 0.0]], dtype=object)"
            ]
          },
          "metadata": {},
          "execution_count": 29
        }
      ]
    },
    {
      "cell_type": "markdown",
      "source": [
        "Podemos tentar converter esse array para um tipo numérico..."
      ],
      "metadata": {
        "id": "ZN9Fk8SWvs-p"
      }
    },
    {
      "cell_type": "code",
      "source": [
        "# arrayzao = arrayzao.astype(\"float64\") "
      ],
      "metadata": {
        "colab": {
          "base_uri": "https://localhost:8080/",
          "height": 165
        },
        "id": "BV7o-x-tqkrC",
        "outputId": "91d25dd8-7051-4657-bebb-370e13a7f8ed"
      },
      "execution_count": 30,
      "outputs": [
        {
          "output_type": "error",
          "ename": "ValueError",
          "evalue": "ignored",
          "traceback": [
            "\u001b[0;31m---------------------------------------------------------------------------\u001b[0m",
            "\u001b[0;31mValueError\u001b[0m                                Traceback (most recent call last)",
            "\u001b[0;32m/tmp/ipykernel_3535/1740976468.py\u001b[0m in \u001b[0;36m<cell line: 1>\u001b[0;34m()\u001b[0m\n\u001b[0;32m----> 1\u001b[0;31m \u001b[0marrayzao\u001b[0m \u001b[0;34m=\u001b[0m \u001b[0marrayzao\u001b[0m\u001b[0;34m.\u001b[0m\u001b[0mastype\u001b[0m\u001b[0;34m(\u001b[0m\u001b[0;34m\"float64\"\u001b[0m\u001b[0;34m)\u001b[0m\u001b[0;34m\u001b[0m\u001b[0;34m\u001b[0m\u001b[0m\n\u001b[0m",
            "\u001b[0;31mValueError\u001b[0m: could not convert string to float: 'Y96 '"
          ]
        }
      ]
    },
    {
      "cell_type": "markdown",
      "source": [
        "Mas novamente teremos um erro, pois temos várias células com letras que não podem ser convertidas para float. Nesse caso seria necessário um tratamento de dados muito mais complexo e exaustivo..."
      ],
      "metadata": {
        "id": "cY3BdnLvv3dv"
      }
    },
    {
      "cell_type": "markdown",
      "source": [
        "# Armazenando o DataFrame"
      ],
      "metadata": {
        "id": "HPfgng5Rwt9Y"
      }
    },
    {
      "cell_type": "markdown",
      "source": [
        "Para não ser necessário baixar o DataFrame da biblioteca PySus toda vez, podemos salvá-lo em um arquivo de extensão .csv ."
      ],
      "metadata": {
        "id": "TbvjgER1w0kW"
      }
    },
    {
      "cell_type": "code",
      "source": [
        "dataframe.to_csv('Acidentes de Trabalho.csv', index=False)"
      ],
      "metadata": {
        "id": "Y3DX5l6vrB3_"
      },
      "execution_count": 36,
      "outputs": []
    },
    {
      "cell_type": "markdown",
      "source": [
        "Em seguida, podemos ler o csv convertendo-o de volta a um DataFrame."
      ],
      "metadata": {
        "id": "9v58VR5T1BvJ"
      }
    },
    {
      "cell_type": "code",
      "source": [
        "df = pd.read_csv(\"Acidentes de Trabalho.csv\")"
      ],
      "metadata": {
        "colab": {
          "base_uri": "https://localhost:8080/"
        },
        "id": "XpRRSlddsFY6",
        "outputId": "f88b582d-f59b-445b-ef09-ebe9269c3cd4"
      },
      "execution_count": 37,
      "outputs": [
        {
          "output_type": "stream",
          "name": "stderr",
          "text": [
            "/tmp/ipykernel_3535/1796324158.py:1: DtypeWarning: Columns (17,18,20,21) have mixed types. Specify dtype option on import or set low_memory=False.\n",
            "  df = pd.read_csv(\"Acidentes de Trabalho.csv\")\n"
          ]
        }
      ]
    },
    {
      "cell_type": "markdown",
      "source": [
        "# Máscaras em DataFrame"
      ],
      "metadata": {
        "id": "mPHb8Y5r1SkC"
      }
    },
    {
      "cell_type": "markdown",
      "source": [
        "Futuramente, veremos melhor o que significa uma máscara. Por enquanto, entendam a sintaxe abaixo da seguinte forma: Podemos utilizar loc e iloc juntamente com uma condição, e o DataFrame só nos retornará os locais em que essa condição é verdadeira. No exemplo abaixo, estou pedindo primeiro uma condição para as linhas (todas as linhas em que o valor da coluna \"ID_MUNICIP\" é 351380). Em seguida, passo uma condição para as colunas (nesse caso, só pedi a coluna \"CS_GESTANT\"). "
      ],
      "metadata": {
        "id": "d5A9YgHs1t58"
      }
    },
    {
      "cell_type": "code",
      "source": [
        "df.loc[df['ID_MUNICIP']==351380, 'CS_GESTANT']"
      ],
      "metadata": {
        "colab": {
          "base_uri": "https://localhost:8080/"
        },
        "id": "i3xI6IOqu9_M",
        "outputId": "0d0fa06e-b4ad-4995-c267-d4f7b6f67f7f"
      },
      "execution_count": null,
      "outputs": [
        {
          "output_type": "execute_result",
          "data": {
            "text/plain": [
              "0        6\n",
              "1        9\n",
              "2        6\n",
              "3        6\n",
              "4        6\n",
              "        ..\n",
              "18111    9\n",
              "18112    6\n",
              "18113    6\n",
              "18114    6\n",
              "18115    6\n",
              "Name: CS_GESTANT, Length: 137, dtype: int64"
            ]
          },
          "metadata": {},
          "execution_count": 68
        }
      ]
    }
  ]
}